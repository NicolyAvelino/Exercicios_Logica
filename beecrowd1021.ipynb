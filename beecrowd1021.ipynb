{
  "nbformat": 4,
  "nbformat_minor": 0,
  "metadata": {
    "colab": {
      "name": "beecrowd1021.ipynb",
      "provenance": [],
      "authorship_tag": "ABX9TyOI84L1Qvigq/dAsc5+/zNy",
      "include_colab_link": true
    },
    "kernelspec": {
      "name": "python3",
      "display_name": "Python 3"
    },
    "language_info": {
      "name": "python"
    }
  },
  "cells": [
    {
      "cell_type": "markdown",
      "metadata": {
        "id": "view-in-github",
        "colab_type": "text"
      },
      "source": [
        "<a href=\"https://colab.research.google.com/github/NicolyAvelino/Exercicios_Python/blob/main/beecrowd1021.ipynb\" target=\"_parent\"><img src=\"https://colab.research.google.com/assets/colab-badge.svg\" alt=\"Open In Colab\"/></a>"
      ]
    },
    {
      "cell_type": "code",
      "execution_count": null,
      "metadata": {
        "id": "lv5KrwCXqitz",
        "colab": {
          "base_uri": "https://localhost:8080/"
        },
        "outputId": "ad648632-72e7-4367-b809-4e64f030670f"
      },
      "outputs": [
        {
          "output_type": "stream",
          "name": "stdout",
          "text": [
            "91.01\n",
            "NOTAS: \n",
            "0 nota(s) de R$ 100.00\n",
            "1 nota(s) de R$ 50.00\n",
            "2 nota(s) de R$ 20.00\n",
            "0 nota(s) de R$ 10.00\n",
            "0 nota(s) de R$ 5.00\n",
            "0 nota(s) de R$ 2.00\n",
            "MOEDAS: \n",
            "1 moeda(s) de R$ 1.00\n",
            "0 moeda(s) de R$ 0.50\n",
            "0 moeda(s) de R$ 0.25\n",
            "0 moeda(s) de R$ 0.10\n",
            "0 moeda(s) de R$ 0.05\n",
            "1 moeda(s) de R$ 0.01\n"
          ]
        }
      ],
      "source": [
        "v = float(input())\n",
        "n100 = v // 100\n",
        "v %= 100\n",
        "n50 = v // 50\n",
        "v %= 50\n",
        "n20 = v // 20\n",
        "v %= 20\n",
        "n10 = v // 10\n",
        "v %= 10\n",
        "n5 = v // 5\n",
        "v %= 5\n",
        "n2 = v // 2\n",
        "v %= 2\n",
        "n1 = v // 1\n",
        "v %= 1\n",
        "n050 = v // 0.50\n",
        "v %= 0.50\n",
        "n025 = v // 0.25\n",
        "v %= 0.25\n",
        "n010 = v // 0.10\n",
        "v %= 0.10\n",
        "n005 = v // 0.05\n",
        "v %= 0.05 \n",
        "n001 = v // 0.01\n",
        "print(\"NOTAS: \\n%.0f nota(s) de R$ 100.00\" %n100)\n",
        "print(\"%.0f nota(s) de R$ 50.00\" %n50)\n",
        "print(\"%.0f nota(s) de R$ 20.00\" %n20)\n",
        "print(\"%.0f nota(s) de R$ 10.00\" %n10)\n",
        "print(\"%.0f nota(s) de R$ 5.00\" %n5)\n",
        "print(\"%.0f nota(s) de R$ 2.00\" %n2)\n",
        "print(\"MOEDAS: \\n%.0f moeda(s) de R$ 1.00\" %n1)\n",
        "print(\"%.0f moeda(s) de R$ 0.50\" %n050)\n",
        "print(\"%.0f moeda(s) de R$ 0.25\" %n025)\n",
        "print(\"%.0f moeda(s) de R$ 0.10\" %n010)\n",
        "print(\"%.0f moeda(s) de R$ 0.05\" %n005)\n",
        "print(\"%.0f moeda(s) de R$ 0.01\" %n001)"
      ]
    },
    {
      "cell_type": "code",
      "source": [
        "valor = int(input())\n",
        "print(valor)\n",
        "n100 = valor // 100\n",
        "valor %= 100\n",
        "n50 = valor // 50\n",
        "valor %= 50\n",
        "n20 = valor // 20\n",
        "valor %= 20\n",
        "n10 = valor // 10\n",
        "valor %= 10\n",
        "n5 = valor // 5\n",
        "valor %= 5\n",
        "n2 = valor // 2\n",
        "valor %= 2\n",
        "print(\"%i nota(s) de R$ 100,00\" %n100)\n",
        "print(\"%i nota(s) de R$ 50,00\" %n50)\n",
        "print(\"%i nota(s) de R$ 20,00\" %n20)\n",
        "print(\"%i nota(s) de R$ 10,00\" %n10)\n",
        "print(\"%i nota(s) de R$ 5,00\" %n5)\n",
        "print(\"%i nota(s) de R$ 2,00\" %n2)\n",
        "print(\"%i nota(s) de R$ 1,00\" %valor)"
      ],
      "metadata": {
        "id": "aD5iewJx3NzN"
      },
      "execution_count": null,
      "outputs": []
    }
  ]
}