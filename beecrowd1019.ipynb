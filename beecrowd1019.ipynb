{
  "nbformat": 4,
  "nbformat_minor": 0,
  "metadata": {
    "colab": {
      "name": "beecrowd1019.ipynb",
      "provenance": [],
      "authorship_tag": "ABX9TyPbTVfpaWlJiDVaG13s0Fdf",
      "include_colab_link": true
    },
    "kernelspec": {
      "name": "python3",
      "display_name": "Python 3"
    },
    "language_info": {
      "name": "python"
    }
  },
  "cells": [
    {
      "cell_type": "markdown",
      "metadata": {
        "id": "view-in-github",
        "colab_type": "text"
      },
      "source": [
        "<a href=\"https://colab.research.google.com/github/NicolyAvelino/Exercicios_Python/blob/main/beecrowd1019.ipynb\" target=\"_parent\"><img src=\"https://colab.research.google.com/assets/colab-badge.svg\" alt=\"Open In Colab\"/></a>"
      ]
    },
    {
      "cell_type": "code",
      "execution_count": null,
      "metadata": {
        "colab": {
          "base_uri": "https://localhost:8080/"
        },
        "id": "-mVyE3e1SBMG",
        "outputId": "44fe7986-b52e-402d-b435-d9fa8f03bb0f"
      },
      "outputs": [
        {
          "output_type": "stream",
          "name": "stdout",
          "text": [
            "1\n",
            "0: \n",
            "0: \n",
            "0: \n"
          ]
        }
      ],
      "source": [
        "N = int(input())\n",
        "h = N / 60\n",
        "m = h / 60\n",
        "s = (m * N) / 60\n",
        "print(\"%i: \"%h)\n",
        "print(\"%i: \"%m)\n",
        "print(\"%i: \"%s)\n"
      ]
    }
  ]
}