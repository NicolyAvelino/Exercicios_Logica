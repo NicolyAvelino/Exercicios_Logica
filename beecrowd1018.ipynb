{
  "nbformat": 4,
  "nbformat_minor": 0,
  "metadata": {
    "colab": {
      "name": "beecrowd1018.ipynb",
      "provenance": [],
      "authorship_tag": "ABX9TyOdfbiNsqrRWn1mke1Up0jg",
      "include_colab_link": true
    },
    "kernelspec": {
      "name": "python3",
      "display_name": "Python 3"
    },
    "language_info": {
      "name": "python"
    }
  },
  "cells": [
    {
      "cell_type": "markdown",
      "metadata": {
        "id": "view-in-github",
        "colab_type": "text"
      },
      "source": [
        "<a href=\"https://colab.research.google.com/github/NicolyAvelino/Exercicios_Python/blob/main/beecrowd1018.ipynb\" target=\"_parent\"><img src=\"https://colab.research.google.com/assets/colab-badge.svg\" alt=\"Open In Colab\"/></a>"
      ]
    },
    {
      "cell_type": "code",
      "execution_count": null,
      "metadata": {
        "id": "NpC550cdyRdE"
      },
      "outputs": [],
      "source": [
        "valor = int(input())\n",
        "notas = valor\n",
        "n100 = notas // 100\n",
        "notas = notas % 100\n",
        "n50 = notas // 50\n",
        "notas = notas % 50\n",
        "n20 = notas // 20\n",
        "notas = notas % 20\n",
        "n10 = notas // 10\n",
        "notas = notas % 10\n",
        "n5 = notas // 5\n",
        "notas = notas % 5\n",
        "n2 = notas // 2\n",
        "notas = notas % 2\n",
        "n1 = notas // 1\n",
        "print(valor)\n",
        "print(\"%i nota (s) de R$ 100,00 \" % n100)\n",
        "print(\"%i nota (s) de R$ 50,00 \" % n50)\n",
        "print(\"%i nota (s) de R$ 20,00 \" % n20)\n",
        "print(\"%i nota (s) de R$ 10,00 \" % n10)\n",
        "print(\"%i nota (s) de R$ 5,00 \" % n5)\n",
        "print(\"%i nota (s) de R$ 2,00 \" % n2)\n",
        "print(\"%i nota (s) de R$ 1,00 \" % notas)"
      ]
    },
    {
      "cell_type": "code",
      "source": [
        "valor = int(input())\n",
        "notas = valor\n",
        "n100 = notas // 100\n",
        "notas = notas % 100\n",
        "n50 = notas // 50\n",
        "notas = notas % 50\n",
        "n20 = notas // 20\n",
        "notas = notas % 20\n",
        "n10 = notas // 10\n",
        "notas = notas % 10\n",
        "n5 = notas // 5\n",
        "notas = notas % 5\n",
        "n2 = notas // 2\n",
        "notas = notas % 2\n",
        "print(valor)\n",
        "print(\"%i nota (s) de R$ 100,00 \\n%i nota (s) de R$ 50,00 \\n%i nota (s) de R$ 20,00 \\n%i nota (s) de R$ 10,00 \\n%i nota (s) de R$ 5,00 \\n%i nota (s) de R$ 2,00 \\n%i nota (s) de R$ 1,00\" % (n100,n50,n20,n10,n5,n2,notas))"
      ],
      "metadata": {
        "id": "rGS1PsTfxQxh"
      },
      "execution_count": null,
      "outputs": []
    },
    {
      "cell_type": "code",
      "source": [
        "valor = int(input())\n",
        "print(valor)\n",
        "n100 = valor // 100\n",
        "valor %= 100\n",
        "n50 = valor // 50\n",
        "valor %= 50\n",
        "n20 = valor // 20\n",
        "valor %= 20\n",
        "n10 = valor // 10\n",
        "valor %= 10\n",
        "n5 = valor // 5\n",
        "valor %= 5\n",
        "n2 = valor // 2\n",
        "valor %= 2\n",
        "print(\"%i nota(s) de R$ 100,00\" %n100)\n",
        "print(\"%i nota(s) de R$ 50,00\" %n50)\n",
        "print(\"%i nota(s) de R$ 20,00\" %n20)\n",
        "print(\"%i nota(s) de R$ 10,00\" %n10)\n",
        "print(\"%i nota(s) de R$ 5,00\" %n5)\n",
        "print(\"%i nota(s) de R$ 2,00\" %n2)\n",
        "print(\"%i nota(s) de R$ 1,00\" %valor)"
      ],
      "metadata": {
        "colab": {
          "base_uri": "https://localhost:8080/"
        },
        "id": "MpaD7X9IyFVP",
        "outputId": "c2dcf8a2-089c-4143-f262-e6b14852f66b"
      },
      "execution_count": null,
      "outputs": [
        {
          "output_type": "stream",
          "name": "stdout",
          "text": [
            "576\n",
            "576\n",
            "5 nota(s) de R$ 100,00\n",
            "1 nota(s) de R$ 50,00\n",
            "1 nota(s) de R$ 20,00\n",
            "0 nota(s) de R$ 10,00\n",
            "1 nota(s) de R$ 5,00\n",
            "0 nota(s) de R$ 2,00\n",
            "1 nota(s) de R$ 1,00\n"
          ]
        }
      ]
    }
  ]
}