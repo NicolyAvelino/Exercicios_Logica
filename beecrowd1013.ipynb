{
  "nbformat": 4,
  "nbformat_minor": 0,
  "metadata": {
    "colab": {
      "name": "beecrowd1013.ipynb",
      "provenance": [],
      "authorship_tag": "ABX9TyPBE6ev7yPxVDqMHV7fHpEu",
      "include_colab_link": true
    },
    "kernelspec": {
      "name": "python3",
      "display_name": "Python 3"
    },
    "language_info": {
      "name": "python"
    }
  },
  "cells": [
    {
      "cell_type": "markdown",
      "metadata": {
        "id": "view-in-github",
        "colab_type": "text"
      },
      "source": [
        "<a href=\"https://colab.research.google.com/github/NicolyAvelino/Exercicios_Python/blob/main/beecrowd1013.ipynb\" target=\"_parent\"><img src=\"https://colab.research.google.com/assets/colab-badge.svg\" alt=\"Open In Colab\"/></a>"
      ]
    },
    {
      "cell_type": "code",
      "execution_count": null,
      "metadata": {
        "colab": {
          "base_uri": "https://localhost:8080/"
        },
        "id": "HJX6SuewFVXk",
        "outputId": "57777cc5-d06c-4a2f-8928-405255701e5e"
      },
      "outputs": [
        {
          "output_type": "stream",
          "name": "stdout",
          "text": [
            "217 14 6\n",
            "217 eh o maior\n"
          ]
        }
      ],
      "source": [
        "A, B, C = map(int, input().split())\n",
        "mAB = (A + B + abs(A - B))/2\n",
        "res = (mAB + C + abs(mAB - C))/2\n",
        "print(\"%i eh o maior\" %res)"
      ]
    }
  ]
}