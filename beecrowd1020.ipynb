{
  "nbformat": 4,
  "nbformat_minor": 0,
  "metadata": {
    "colab": {
      "name": "beecrowd1020.ipynb",
      "provenance": [],
      "authorship_tag": "ABX9TyPIPkkutDojg2qFsPkkzTwW",
      "include_colab_link": true
    },
    "kernelspec": {
      "name": "python3",
      "display_name": "Python 3"
    },
    "language_info": {
      "name": "python"
    }
  },
  "cells": [
    {
      "cell_type": "markdown",
      "metadata": {
        "id": "view-in-github",
        "colab_type": "text"
      },
      "source": [
        "<a href=\"https://colab.research.google.com/github/NicolyAvelino/Exercicios_Python/blob/main/beecrowd1020.ipynb\" target=\"_parent\"><img src=\"https://colab.research.google.com/assets/colab-badge.svg\" alt=\"Open In Colab\"/></a>"
      ]
    },
    {
      "cell_type": "code",
      "execution_count": null,
      "metadata": {
        "id": "ROmI5-K4rZDw",
        "colab": {
          "base_uri": "https://localhost:8080/"
        },
        "outputId": "945d7291-27e6-406d-af84-96c0f2f55292"
      },
      "outputs": [
        {
          "output_type": "stream",
          "name": "stdout",
          "text": [
            "400\n",
            "1 ano(s)\n",
            "1 mes(es)\n",
            "5 dia(s)\n"
          ]
        }
      ],
      "source": [
        "id = int(input())\n",
        "A = id // 365\n",
        "id %= 365\n",
        "B = id // 30\n",
        "id %= 30\n",
        "C = id // 1\n",
        "id %= 1\n",
        "print(\"%i ano(s)\" %A)\n",
        "print(\"%i mes(es)\" %B)\n",
        "print(\"%i dia(s)\" %C)"
      ]
    },
    {
      "cell_type": "code",
      "source": [
        "id = int(input())\n",
        "A = id // 365\n",
        "id = id % 365\n",
        "B = id // 30\n",
        "id = id % 30\n",
        "C = id \n",
        "print(\"%i ano (s) \\n%i mes (es) \\n%i dia (s)\" %(A,B,C))"
      ],
      "metadata": {
        "colab": {
          "base_uri": "https://localhost:8080/"
        },
        "id": "fRxHkoPJ9CvN",
        "outputId": "f00dfad8-9c9c-4ef3-b368-50f9d7893af1"
      },
      "execution_count": null,
      "outputs": [
        {
          "output_type": "stream",
          "name": "stdout",
          "text": [
            "800\n",
            "2 ano (s) \n",
            "2 mes (es) \n",
            "10 dia (s)\n"
          ]
        }
      ]
    }
  ]
}