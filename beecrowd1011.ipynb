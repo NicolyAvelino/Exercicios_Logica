{
  "nbformat": 4,
  "nbformat_minor": 0,
  "metadata": {
    "colab": {
      "name": "beecrowd1011.ipynb",
      "provenance": [],
      "authorship_tag": "ABX9TyMqaPTHmclO5KIN0ypE6leH",
      "include_colab_link": true
    },
    "kernelspec": {
      "name": "python3",
      "display_name": "Python 3"
    },
    "language_info": {
      "name": "python"
    }
  },
  "cells": [
    {
      "cell_type": "markdown",
      "metadata": {
        "id": "view-in-github",
        "colab_type": "text"
      },
      "source": [
        "<a href=\"https://colab.research.google.com/github/NicolyAvelino/Exercicios_Python/blob/main/beecrowd1011.ipynb\" target=\"_parent\"><img src=\"https://colab.research.google.com/assets/colab-badge.svg\" alt=\"Open In Colab\"/></a>"
      ]
    },
    {
      "cell_type": "code",
      "execution_count": null,
      "metadata": {
        "colab": {
          "base_uri": "https://localhost:8080/"
        },
        "id": "Z29H3scmmtCw",
        "outputId": "a0e15ddb-a1e4-4bd1-84ca-2440711a722f"
      },
      "outputs": [
        {
          "output_type": "stream",
          "name": "stdout",
          "text": [
            "15\n",
            "VOLUME = 14137.155\n"
          ]
        }
      ],
      "source": [
        "R = float(input())\n",
        "pi = 3.14159\n",
        "cal = (4/3.0) * pi * pow(R,3)\n",
        "print(\"VOLUME = %.3f\" %cal)"
      ]
    }
  ]
}