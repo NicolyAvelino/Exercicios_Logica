{
  "nbformat": 4,
  "nbformat_minor": 0,
  "metadata": {
    "colab": {
      "name": "beecrowd1016.ipynb",
      "provenance": [],
      "authorship_tag": "ABX9TyPbBLBi4jeDPcO5Bx7ydlMT",
      "include_colab_link": true
    },
    "kernelspec": {
      "name": "python3",
      "display_name": "Python 3"
    },
    "language_info": {
      "name": "python"
    }
  },
  "cells": [
    {
      "cell_type": "markdown",
      "metadata": {
        "id": "view-in-github",
        "colab_type": "text"
      },
      "source": [
        "<a href=\"https://colab.research.google.com/github/NicolyAvelino/Exercicios_Python/blob/main/beecrowd1016.ipynb\" target=\"_parent\"><img src=\"https://colab.research.google.com/assets/colab-badge.svg\" alt=\"Open In Colab\"/></a>"
      ]
    },
    {
      "cell_type": "code",
      "execution_count": null,
      "metadata": {
        "id": "nGSP9BbGVuwj"
      },
      "outputs": [],
      "source": [
        "D = int(input())\n",
        "\n",
        "X = 60\n",
        "Y = 90\n",
        "\n",
        "hora = 60 *\n",
        "minutos 2\n",
        "quilometro = 1\n",
        "\n",
        "\n",
        "distancia = D * \n",
        "tempo =\n",
        "form = 60 30\n",
        "\n",
        "carro x = velocidade 60km/h\n",
        "\n",
        "\n",
        "carro y = 90 km/h\n",
        "A cada 1 quilometro 2 minutos"
      ]
    },
    {
      "cell_type": "code",
      "source": [
        "d = int(input())\n",
        "hora = 30\n",
        "cal = d * hora\n",
        "min = cal * 60 \n",
        "print(\"%i minutos\" %min)"
      ],
      "metadata": {
        "colab": {
          "base_uri": "https://localhost:8080/"
        },
        "id": "QQHGeJQb3aaG",
        "outputId": "e3a69c91-3065-43e0-b715-2a619c52ec09"
      },
      "execution_count": null,
      "outputs": [
        {
          "output_type": "stream",
          "name": "stdout",
          "text": [
            "30\n",
            "54000 minutos\n"
          ]
        }
      ]
    },
    {
      "cell_type": "code",
      "source": [
        "d = int(input())\n",
        "soma = pow((x2 - x1),2) + pow((y2 - y1),2)\n",
        "raiz = pow(soma,1/2)\n",
        "print(\"%.0i\" % raiz)"
      ],
      "metadata": {
        "id": "wue-qmtU9TBP"
      },
      "execution_count": null,
      "outputs": []
    },
    {
      "cell_type": "code",
      "source": [
        "d = int(input())\n",
        "min = d * 2\n",
        "print(\"%i minutos\" %min)"
      ],
      "metadata": {
        "colab": {
          "base_uri": "https://localhost:8080/"
        },
        "id": "fW2sYY2GFak_",
        "outputId": "0927bfba-46c7-451f-91c7-92d4216315ef"
      },
      "execution_count": null,
      "outputs": [
        {
          "output_type": "stream",
          "name": "stdout",
          "text": [
            "30\n",
            "60 minutos\n"
          ]
        }
      ]
    }
  ]
}