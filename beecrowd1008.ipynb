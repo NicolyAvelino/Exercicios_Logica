{
  "nbformat": 4,
  "nbformat_minor": 0,
  "metadata": {
    "colab": {
      "name": "beecrowd1008.ipynb",
      "provenance": [],
      "authorship_tag": "ABX9TyNOGsEKFUgusJjT2vpz1B9r",
      "include_colab_link": true
    },
    "kernelspec": {
      "name": "python3",
      "display_name": "Python 3"
    },
    "language_info": {
      "name": "python"
    }
  },
  "cells": [
    {
      "cell_type": "markdown",
      "metadata": {
        "id": "view-in-github",
        "colab_type": "text"
      },
      "source": [
        "<a href=\"https://colab.research.google.com/github/NicolyAvelino/Exercicios_Python/blob/main/beecrowd1008.ipynb\" target=\"_parent\"><img src=\"https://colab.research.google.com/assets/colab-badge.svg\" alt=\"Open In Colab\"/></a>"
      ]
    },
    {
      "cell_type": "code",
      "execution_count": null,
      "metadata": {
        "colab": {
          "base_uri": "https://localhost:8080/"
        },
        "id": "YOI_Nutj-4yW",
        "outputId": "c745ae55-89f6-404e-9869-92f688628544"
      },
      "outputs": [
        {
          "output_type": "stream",
          "name": "stdout",
          "text": [
            "1\n",
            "200\n",
            "20.50\n",
            "NUMBER = 1\n",
            "SALARY = U$ 4100.00\n"
          ]
        }
      ],
      "source": [
        "numFuncionario  = int(input())\n",
        "numHoras = int(input())\n",
        "valor = float(input())\n",
        "calc = numHoras * valor\n",
        "print(\"NUMBER = %i\" % numFuncionario)\n",
        "print(\"SALARY = U$ %.2f\" % calc)"
      ]
    }
  ]
}