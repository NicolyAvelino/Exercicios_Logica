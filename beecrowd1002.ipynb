{
  "nbformat": 4,
  "nbformat_minor": 0,
  "metadata": {
    "colab": {
      "name": "beecrowd1002.ipynb",
      "provenance": [],
      "authorship_tag": "ABX9TyP1HRkcbO5sWyZNnpY+j5of",
      "include_colab_link": true
    },
    "kernelspec": {
      "name": "python3",
      "display_name": "Python 3"
    },
    "language_info": {
      "name": "python"
    }
  },
  "cells": [
    {
      "cell_type": "markdown",
      "metadata": {
        "id": "view-in-github",
        "colab_type": "text"
      },
      "source": [
        "<a href=\"https://colab.research.google.com/github/NicolyAvelino/Exercicios_Python/blob/main/beecrowd1002.ipynb\" target=\"_parent\"><img src=\"https://colab.research.google.com/assets/colab-badge.svg\" alt=\"Open In Colab\"/></a>"
      ]
    },
    {
      "cell_type": "code",
      "execution_count": null,
      "metadata": {
        "colab": {
          "base_uri": "https://localhost:8080/"
        },
        "id": "AQeE8jvkyxOt",
        "outputId": "e04cb14d-6caf-4eeb-cd77-71fb0489fa21"
      },
      "outputs": [
        {
          "output_type": "stream",
          "name": "stdout",
          "text": [
            "Digite valor raio2.00\n",
            "A=12.5664\n"
          ]
        }
      ],
      "source": [
        "raio = float(input())\n",
        "n = 3.14159\n",
        "area = n * pow(raio,2)\n",
        "print(\"A=%.4f\"%area)\n"
      ]
    }
  ]
}